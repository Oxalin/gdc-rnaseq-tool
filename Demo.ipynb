{
 "cells": [
  {
   "cell_type": "markdown",
   "metadata": {},
   "source": [
    "## GDC RNA-Seq Tool Example\n",
    "### This notebook lets users upload a manifest file, and download Merged RNA-Seq Data"
   ]
  },
  {
   "cell_type": "code",
   "execution_count": null,
   "metadata": {},
   "outputs": [],
   "source": [
    "import base64\n",
    "from IPython.display import HTML, display\n",
    "from ipyupload import FileUpload\n",
    "import subprocess\n",
    "import pandas as pd\n",
    "\n",
    "def Write_Manifest_File(w):\n",
    "    File_Name = list(w.value.keys())[0]\n",
    "    file = open(File_Name,'w') \n",
    "    file.write(w.value[File_Name]['content'].decode('UTF-8')) \n",
    "    file.close()\n",
    "    return File_Name"
   ]
  },
  {
   "cell_type": "markdown",
   "metadata": {},
   "source": [
    "## Step 1: Upload a Manifest File"
   ]
  },
  {
   "cell_type": "code",
   "execution_count": null,
   "metadata": {},
   "outputs": [],
   "source": [
    "w = FileUpload()\n",
    "display('Upload a Manifest File:' , w)"
   ]
  },
  {
   "cell_type": "markdown",
   "metadata": {},
   "source": [
    "## Step 2: Run GDC-RNASeq-Tool On Manifest"
   ]
  },
  {
   "cell_type": "code",
   "execution_count": null,
   "metadata": {},
   "outputs": [],
   "source": [
    "Manifest_Name = Write_Manifest_File(w)\n",
    "print('Running GDC-RNA-Seq Tool on Manifest File called ' + Manifest_Name + '....')\n",
    "p = subprocess.run(['python','gdc-rnaseq-tool.py',Manifest_Name,'--hugo'],stdout=subprocess.PIPE)\n",
    "print('Finished Running')"
   ]
  },
  {
   "cell_type": "markdown",
   "metadata": {},
   "source": [
    "## Step 3: Download Merged Data"
   ]
  },
  {
   "cell_type": "code",
   "execution_count": null,
   "metadata": {},
   "outputs": [],
   "source": [
    "# Read in Data Frame that was created\n",
    "File_Location = p.stdout.decode('UTF-8').split('\\n')[1].split(': ')[1]\n",
    "\n",
    "Files = []\n",
    "for line in p.stdout.decode('UTF-8').split('\\n'):\n",
    "    if 'Creating merged' in line:\n",
    "        Files.append(line.split(' ')[7])\n",
    "\n",
    "def create_download_link( df, title , filename ): \n",
    "    csv = df.to_csv(sep='\\t')\n",
    "    b64 = base64.b64encode(csv.encode())\n",
    "    payload = b64.decode()\n",
    "    html = '<a download=\"{filename}\" href=\"data:text/tsv;base64,{payload}\" target=\"_blank\">{title}</a>'\n",
    "    html = html.format(payload=payload,title=title,filename=filename)\n",
    "    return HTML(html)\n",
    "\n",
    "for file in Files:\n",
    "    df = pd.read_csv(File_Location + file,sep='\\t')\n",
    "    display(create_download_link(df, file, file))"
   ]
  },
  {
   "cell_type": "code",
   "execution_count": null,
   "metadata": {},
   "outputs": [],
   "source": []
  }
 ],
 "metadata": {
  "kernelspec": {
   "display_name": "Python 3",
   "language": "python",
   "name": "python3"
  },
  "language_info": {
   "codemirror_mode": {
    "name": "ipython",
    "version": 3
   },
   "file_extension": ".py",
   "mimetype": "text/x-python",
   "name": "python",
   "nbconvert_exporter": "python",
   "pygments_lexer": "ipython3",
   "version": "3.7.3"
  }
 },
 "nbformat": 4,
 "nbformat_minor": 2
}
